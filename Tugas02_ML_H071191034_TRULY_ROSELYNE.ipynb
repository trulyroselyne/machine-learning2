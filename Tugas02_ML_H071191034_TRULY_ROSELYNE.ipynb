{
  "nbformat": 4,
  "nbformat_minor": 0,
  "metadata": {
    "colab": {
      "name": "Tugas02-ML-H071191034-TRULY_ROSELYNE.ipynb",
      "provenance": []
    },
    "kernelspec": {
      "name": "python3",
      "display_name": "Python 3"
    },
    "language_info": {
      "name": "python"
    }
  },
  "cells": [
    {
      "cell_type": "code",
      "metadata": {
        "id": "LKkC1vMM0xln"
      },
      "source": [
        "import pandas as pd\n",
        "import matplotlib.pyplot as plt\n",
        "import seaborn as sns"
      ],
      "execution_count": 4,
      "outputs": []
    },
    {
      "cell_type": "code",
      "metadata": {
        "colab": {
          "base_uri": "https://localhost:8080/",
          "height": 206
        },
        "id": "hM8MFpSH2Q3g",
        "outputId": "fb8b0cd0-df46-4179-87e1-e46eb91facc2"
      },
      "source": [
        "df = pd.read_csv('crypto_doge.csv')\n",
        "df.head()"
      ],
      "execution_count": 5,
      "outputs": [
        {
          "output_type": "execute_result",
          "data": {
            "text/html": [
              "<div>\n",
              "<style scoped>\n",
              "    .dataframe tbody tr th:only-of-type {\n",
              "        vertical-align: middle;\n",
              "    }\n",
              "\n",
              "    .dataframe tbody tr th {\n",
              "        vertical-align: top;\n",
              "    }\n",
              "\n",
              "    .dataframe thead th {\n",
              "        text-align: right;\n",
              "    }\n",
              "</style>\n",
              "<table border=\"1\" class=\"dataframe\">\n",
              "  <thead>\n",
              "    <tr style=\"text-align: right;\">\n",
              "      <th></th>\n",
              "      <th>Date</th>\n",
              "      <th>Open</th>\n",
              "      <th>High</th>\n",
              "      <th>Low</th>\n",
              "      <th>Close</th>\n",
              "    </tr>\n",
              "  </thead>\n",
              "  <tbody>\n",
              "    <tr>\n",
              "      <th>0</th>\n",
              "      <td>01/01/2021</td>\n",
              "      <td>0.0047</td>\n",
              "      <td>0.0058</td>\n",
              "      <td>0.0046</td>\n",
              "      <td>0.0057</td>\n",
              "    </tr>\n",
              "    <tr>\n",
              "      <th>1</th>\n",
              "      <td>12/31/2020</td>\n",
              "      <td>0.0047</td>\n",
              "      <td>0.0047</td>\n",
              "      <td>0.0045</td>\n",
              "      <td>0.0047</td>\n",
              "    </tr>\n",
              "    <tr>\n",
              "      <th>2</th>\n",
              "      <td>12/30/2020</td>\n",
              "      <td>0.0045</td>\n",
              "      <td>0.0047</td>\n",
              "      <td>0.0044</td>\n",
              "      <td>0.0046</td>\n",
              "    </tr>\n",
              "    <tr>\n",
              "      <th>3</th>\n",
              "      <td>12/29/2020</td>\n",
              "      <td>0.0046</td>\n",
              "      <td>0.0046</td>\n",
              "      <td>0.0042</td>\n",
              "      <td>0.0045</td>\n",
              "    </tr>\n",
              "    <tr>\n",
              "      <th>4</th>\n",
              "      <td>12/28/2020</td>\n",
              "      <td>0.0045</td>\n",
              "      <td>0.0047</td>\n",
              "      <td>0.0045</td>\n",
              "      <td>0.0046</td>\n",
              "    </tr>\n",
              "  </tbody>\n",
              "</table>\n",
              "</div>"
            ],
            "text/plain": [
              "         Date    Open    High     Low   Close\n",
              "0  01/01/2021  0.0047  0.0058  0.0046  0.0057\n",
              "1  12/31/2020  0.0047  0.0047  0.0045  0.0047\n",
              "2  12/30/2020  0.0045  0.0047  0.0044  0.0046\n",
              "3  12/29/2020  0.0046  0.0046  0.0042  0.0045\n",
              "4  12/28/2020  0.0045  0.0047  0.0045  0.0046"
            ]
          },
          "metadata": {},
          "execution_count": 5
        }
      ]
    },
    {
      "cell_type": "code",
      "metadata": {
        "colab": {
          "base_uri": "https://localhost:8080/",
          "height": 206
        },
        "id": "ErIkNbaF20Ka",
        "outputId": "e909e71c-aad3-4b0b-c173-2adcf7216eff"
      },
      "source": [
        "df.drop(['Date'], axis=1, inplace=True)\n",
        "df.head()"
      ],
      "execution_count": 6,
      "outputs": [
        {
          "output_type": "execute_result",
          "data": {
            "text/html": [
              "<div>\n",
              "<style scoped>\n",
              "    .dataframe tbody tr th:only-of-type {\n",
              "        vertical-align: middle;\n",
              "    }\n",
              "\n",
              "    .dataframe tbody tr th {\n",
              "        vertical-align: top;\n",
              "    }\n",
              "\n",
              "    .dataframe thead th {\n",
              "        text-align: right;\n",
              "    }\n",
              "</style>\n",
              "<table border=\"1\" class=\"dataframe\">\n",
              "  <thead>\n",
              "    <tr style=\"text-align: right;\">\n",
              "      <th></th>\n",
              "      <th>Open</th>\n",
              "      <th>High</th>\n",
              "      <th>Low</th>\n",
              "      <th>Close</th>\n",
              "    </tr>\n",
              "  </thead>\n",
              "  <tbody>\n",
              "    <tr>\n",
              "      <th>0</th>\n",
              "      <td>0.0047</td>\n",
              "      <td>0.0058</td>\n",
              "      <td>0.0046</td>\n",
              "      <td>0.0057</td>\n",
              "    </tr>\n",
              "    <tr>\n",
              "      <th>1</th>\n",
              "      <td>0.0047</td>\n",
              "      <td>0.0047</td>\n",
              "      <td>0.0045</td>\n",
              "      <td>0.0047</td>\n",
              "    </tr>\n",
              "    <tr>\n",
              "      <th>2</th>\n",
              "      <td>0.0045</td>\n",
              "      <td>0.0047</td>\n",
              "      <td>0.0044</td>\n",
              "      <td>0.0046</td>\n",
              "    </tr>\n",
              "    <tr>\n",
              "      <th>3</th>\n",
              "      <td>0.0046</td>\n",
              "      <td>0.0046</td>\n",
              "      <td>0.0042</td>\n",
              "      <td>0.0045</td>\n",
              "    </tr>\n",
              "    <tr>\n",
              "      <th>4</th>\n",
              "      <td>0.0045</td>\n",
              "      <td>0.0047</td>\n",
              "      <td>0.0045</td>\n",
              "      <td>0.0046</td>\n",
              "    </tr>\n",
              "  </tbody>\n",
              "</table>\n",
              "</div>"
            ],
            "text/plain": [
              "     Open    High     Low   Close\n",
              "0  0.0047  0.0058  0.0046  0.0057\n",
              "1  0.0047  0.0047  0.0045  0.0047\n",
              "2  0.0045  0.0047  0.0044  0.0046\n",
              "3  0.0046  0.0046  0.0042  0.0045\n",
              "4  0.0045  0.0047  0.0045  0.0046"
            ]
          },
          "metadata": {},
          "execution_count": 6
        }
      ]
    },
    {
      "cell_type": "code",
      "metadata": {
        "colab": {
          "base_uri": "https://localhost:8080/"
        },
        "id": "ycu4VRo44BAg",
        "outputId": "6b628424-859b-42d6-ef0a-8456f1c5b04b"
      },
      "source": [
        "from sklearn.preprocessing import StandardScaler\n",
        "\n",
        "df_scale = df[['Open', 'High', 'Low', 'Close']]\n",
        "\n",
        "# instantiating the scaler\n",
        "scaler = StandardScaler()\n",
        "\n",
        "# fit and transform\n",
        "df_scale = scaler.fit_transform(df_scale)\n",
        "df_scale.shape"
      ],
      "execution_count": 7,
      "outputs": [
        {
          "output_type": "execute_result",
          "data": {
            "text/plain": [
              "(367, 4)"
            ]
          },
          "metadata": {},
          "execution_count": 7
        }
      ]
    },
    {
      "cell_type": "code",
      "metadata": {
        "colab": {
          "base_uri": "https://localhost:8080/"
        },
        "id": "AO31NHck4MM5",
        "outputId": "3a89b497-8b20-458b-a46b-c18775163060"
      },
      "source": [
        "df_scale[:5]"
      ],
      "execution_count": 8,
      "outputs": [
        {
          "output_type": "execute_result",
          "data": {
            "text/plain": [
              "array([[3.19668146, 4.29169606, 3.40420944, 4.68485699],\n",
              "       [3.19668146, 2.69560421, 3.23116999, 3.10006345],\n",
              "       [2.87142998, 2.69560421, 3.05813053, 2.94158409],\n",
              "       [3.03405572, 2.55050495, 2.71205162, 2.78310474],\n",
              "       [2.87142998, 2.69560421, 3.23116999, 2.94158409]])"
            ]
          },
          "metadata": {},
          "execution_count": 8
        }
      ]
    },
    {
      "cell_type": "code",
      "metadata": {
        "colab": {
          "base_uri": "https://localhost:8080/",
          "height": 206
        },
        "id": "E_o9ksR44RqI",
        "outputId": "c554d591-80e5-4317-b1e8-c48f10a9fb4e"
      },
      "source": [
        "data = pd.DataFrame(df_scale)\n",
        "data.columns = ['Open', 'High', 'Low', 'Close']\n",
        "\n",
        "data_cluster = data.copy()\n",
        "data.head()"
      ],
      "execution_count": 9,
      "outputs": [
        {
          "output_type": "execute_result",
          "data": {
            "text/html": [
              "<div>\n",
              "<style scoped>\n",
              "    .dataframe tbody tr th:only-of-type {\n",
              "        vertical-align: middle;\n",
              "    }\n",
              "\n",
              "    .dataframe tbody tr th {\n",
              "        vertical-align: top;\n",
              "    }\n",
              "\n",
              "    .dataframe thead th {\n",
              "        text-align: right;\n",
              "    }\n",
              "</style>\n",
              "<table border=\"1\" class=\"dataframe\">\n",
              "  <thead>\n",
              "    <tr style=\"text-align: right;\">\n",
              "      <th></th>\n",
              "      <th>Open</th>\n",
              "      <th>High</th>\n",
              "      <th>Low</th>\n",
              "      <th>Close</th>\n",
              "    </tr>\n",
              "  </thead>\n",
              "  <tbody>\n",
              "    <tr>\n",
              "      <th>0</th>\n",
              "      <td>3.196681</td>\n",
              "      <td>4.291696</td>\n",
              "      <td>3.404209</td>\n",
              "      <td>4.684857</td>\n",
              "    </tr>\n",
              "    <tr>\n",
              "      <th>1</th>\n",
              "      <td>3.196681</td>\n",
              "      <td>2.695604</td>\n",
              "      <td>3.231170</td>\n",
              "      <td>3.100063</td>\n",
              "    </tr>\n",
              "    <tr>\n",
              "      <th>2</th>\n",
              "      <td>2.871430</td>\n",
              "      <td>2.695604</td>\n",
              "      <td>3.058131</td>\n",
              "      <td>2.941584</td>\n",
              "    </tr>\n",
              "    <tr>\n",
              "      <th>3</th>\n",
              "      <td>3.034056</td>\n",
              "      <td>2.550505</td>\n",
              "      <td>2.712052</td>\n",
              "      <td>2.783105</td>\n",
              "    </tr>\n",
              "    <tr>\n",
              "      <th>4</th>\n",
              "      <td>2.871430</td>\n",
              "      <td>2.695604</td>\n",
              "      <td>3.231170</td>\n",
              "      <td>2.941584</td>\n",
              "    </tr>\n",
              "  </tbody>\n",
              "</table>\n",
              "</div>"
            ],
            "text/plain": [
              "       Open      High       Low     Close\n",
              "0  3.196681  4.291696  3.404209  4.684857\n",
              "1  3.196681  2.695604  3.231170  3.100063\n",
              "2  2.871430  2.695604  3.058131  2.941584\n",
              "3  3.034056  2.550505  2.712052  2.783105\n",
              "4  2.871430  2.695604  3.231170  2.941584"
            ]
          },
          "metadata": {},
          "execution_count": 9
        }
      ]
    },
    {
      "cell_type": "code",
      "metadata": {
        "colab": {
          "base_uri": "https://localhost:8080/",
          "height": 300
        },
        "id": "aoaJEBiS4b3g",
        "outputId": "964b047f-8533-4a69-c2a2-a5d32f57ca22"
      },
      "source": [
        "data.describe()"
      ],
      "execution_count": 10,
      "outputs": [
        {
          "output_type": "execute_result",
          "data": {
            "text/html": [
              "<div>\n",
              "<style scoped>\n",
              "    .dataframe tbody tr th:only-of-type {\n",
              "        vertical-align: middle;\n",
              "    }\n",
              "\n",
              "    .dataframe tbody tr th {\n",
              "        vertical-align: top;\n",
              "    }\n",
              "\n",
              "    .dataframe thead th {\n",
              "        text-align: right;\n",
              "    }\n",
              "</style>\n",
              "<table border=\"1\" class=\"dataframe\">\n",
              "  <thead>\n",
              "    <tr style=\"text-align: right;\">\n",
              "      <th></th>\n",
              "      <th>Open</th>\n",
              "      <th>High</th>\n",
              "      <th>Low</th>\n",
              "      <th>Close</th>\n",
              "    </tr>\n",
              "  </thead>\n",
              "  <tbody>\n",
              "    <tr>\n",
              "      <th>count</th>\n",
              "      <td>3.670000e+02</td>\n",
              "      <td>3.670000e+02</td>\n",
              "      <td>3.670000e+02</td>\n",
              "      <td>3.670000e+02</td>\n",
              "    </tr>\n",
              "    <tr>\n",
              "      <th>mean</th>\n",
              "      <td>1.312907e-15</td>\n",
              "      <td>-3.509152e-17</td>\n",
              "      <td>4.065776e-16</td>\n",
              "      <td>1.024914e-15</td>\n",
              "    </tr>\n",
              "    <tr>\n",
              "      <th>std</th>\n",
              "      <td>1.001365e+00</td>\n",
              "      <td>1.001365e+00</td>\n",
              "      <td>1.001365e+00</td>\n",
              "      <td>1.001365e+00</td>\n",
              "    </tr>\n",
              "    <tr>\n",
              "      <th>min</th>\n",
              "      <td>-2.007342e+00</td>\n",
              "      <td>-1.802473e+00</td>\n",
              "      <td>-2.825211e+00</td>\n",
              "      <td>-1.971276e+00</td>\n",
              "    </tr>\n",
              "    <tr>\n",
              "      <th>25%</th>\n",
              "      <td>-5.437106e-01</td>\n",
              "      <td>-4.965795e-01</td>\n",
              "      <td>-5.756980e-01</td>\n",
              "      <td>-5.449617e-01</td>\n",
              "    </tr>\n",
              "    <tr>\n",
              "      <th>50%</th>\n",
              "      <td>-2.184591e-01</td>\n",
              "      <td>-2.063810e-01</td>\n",
              "      <td>-5.657966e-02</td>\n",
              "      <td>-2.280030e-01</td>\n",
              "    </tr>\n",
              "    <tr>\n",
              "      <th>75%</th>\n",
              "      <td>6.759825e-01</td>\n",
              "      <td>6.642146e-01</td>\n",
              "      <td>6.355782e-01</td>\n",
              "      <td>7.228731e-01</td>\n",
              "    </tr>\n",
              "    <tr>\n",
              "      <th>max</th>\n",
              "      <td>3.359307e+00</td>\n",
              "      <td>4.581895e+00</td>\n",
              "      <td>3.404209e+00</td>\n",
              "      <td>4.684857e+00</td>\n",
              "    </tr>\n",
              "  </tbody>\n",
              "</table>\n",
              "</div>"
            ],
            "text/plain": [
              "               Open          High           Low         Close\n",
              "count  3.670000e+02  3.670000e+02  3.670000e+02  3.670000e+02\n",
              "mean   1.312907e-15 -3.509152e-17  4.065776e-16  1.024914e-15\n",
              "std    1.001365e+00  1.001365e+00  1.001365e+00  1.001365e+00\n",
              "min   -2.007342e+00 -1.802473e+00 -2.825211e+00 -1.971276e+00\n",
              "25%   -5.437106e-01 -4.965795e-01 -5.756980e-01 -5.449617e-01\n",
              "50%   -2.184591e-01 -2.063810e-01 -5.657966e-02 -2.280030e-01\n",
              "75%    6.759825e-01  6.642146e-01  6.355782e-01  7.228731e-01\n",
              "max    3.359307e+00  4.581895e+00  3.404209e+00  4.684857e+00"
            ]
          },
          "metadata": {},
          "execution_count": 10
        }
      ]
    },
    {
      "cell_type": "code",
      "metadata": {
        "id": "DZBv84D34d4u"
      },
      "source": [
        ""
      ],
      "execution_count": null,
      "outputs": []
    },
    {
      "cell_type": "markdown",
      "metadata": {
        "id": "vGDNyzLd4hHt"
      },
      "source": [
        "### ***K-Means***"
      ]
    },
    {
      "cell_type": "code",
      "metadata": {
        "colab": {
          "base_uri": "https://localhost:8080/",
          "height": 314
        },
        "id": "On5GCDvG5xQB",
        "outputId": "18b8a7a3-2b57-4657-ecc5-e9a6bc61bd10"
      },
      "source": [
        "# Menentukan jumlah K\n",
        "from sklearn.cluster import KMeans\n",
        "\n",
        "# buat list inertia\n",
        "clusters = []\n",
        "for i in range (1,11):\n",
        "    km = KMeans(n_clusters=i).fit(data)\n",
        "    clusters.append(km.inertia_)\n",
        "\n",
        "# tampilkan plot\n",
        "fig, ax = plt.subplots(figsize=(8,4))\n",
        "sns.lineplot(x=list(range(1,11)), y=clusters, ax=ax)\n",
        "ax.set_title('Elbow')\n",
        "ax.set_xlabel('Clusters')\n",
        "ax.set_ylabel('Inertia')"
      ],
      "execution_count": 11,
      "outputs": [
        {
          "output_type": "execute_result",
          "data": {
            "text/plain": [
              "Text(0, 0.5, 'Inertia')"
            ]
          },
          "metadata": {},
          "execution_count": 11
        },
        {
          "output_type": "display_data",
          "data": {
            "image/png": "[encoded data removed]",
            "text/plain": [
              "<Figure size 576x288 with 1 Axes>"
            ]
          },
          "metadata": {
            "needs_background": "light"
          }
        }
      ]
    },
    {
      "cell_type": "code",
      "metadata": {
        "colab": {
          "base_uri": "https://localhost:8080/",
          "height": 424
        },
        "id": "ogNcr3taBLDI",
        "outputId": "70d08e3b-4d50-4684-ec32-a0925826ecda"
      },
      "source": [
        "## Melatih model\n",
        "# Create Model\n",
        "model_kmeans3 = KMeans(n_clusters=3)\n",
        "model_kmeans4 = KMeans(n_clusters=4)\n",
        "\n",
        "# Train Model\n",
        "model_kmeans3.fit(data)\n",
        "model_kmeans4.fit(data)\n",
        "\n",
        "# Menambah Label pada data\n",
        "data_cluster['cluster_kmeans3'] = model_kmeans3.labels_\n",
        "data_cluster['cluster_kmeans4'] = model_kmeans4.labels_\n",
        "\n",
        "data_cluster"
      ],
      "execution_count": 12,
      "outputs": [
        {
          "output_type": "execute_result",
          "data": {
            "text/html": [
              "<div>\n",
              "<style scoped>\n",
              "    .dataframe tbody tr th:only-of-type {\n",
              "        vertical-align: middle;\n",
              "    }\n",
              "\n",
              "    .dataframe tbody tr th {\n",
              "        vertical-align: top;\n",
              "    }\n",
              "\n",
              "    .dataframe thead th {\n",
              "        text-align: right;\n",
              "    }\n",
              "</style>\n",
              "<table border=\"1\" class=\"dataframe\">\n",
              "  <thead>\n",
              "    <tr style=\"text-align: right;\">\n",
              "      <th></th>\n",
              "      <th>Open</th>\n",
              "      <th>High</th>\n",
              "      <th>Low</th>\n",
              "      <th>Close</th>\n",
              "      <th>cluster_kmeans3</th>\n",
              "      <th>cluster_kmeans4</th>\n",
              "    </tr>\n",
              "  </thead>\n",
              "  <tbody>\n",
              "    <tr>\n",
              "      <th>0</th>\n",
              "      <td>3.196681</td>\n",
              "      <td>4.291696</td>\n",
              "      <td>3.404209</td>\n",
              "      <td>4.684857</td>\n",
              "      <td>0</td>\n",
              "      <td>3</td>\n",
              "    </tr>\n",
              "    <tr>\n",
              "      <th>1</th>\n",
              "      <td>3.196681</td>\n",
              "      <td>2.695604</td>\n",
              "      <td>3.231170</td>\n",
              "      <td>3.100063</td>\n",
              "      <td>0</td>\n",
              "      <td>3</td>\n",
              "    </tr>\n",
              "    <tr>\n",
              "      <th>2</th>\n",
              "      <td>2.871430</td>\n",
              "      <td>2.695604</td>\n",
              "      <td>3.058131</td>\n",
              "      <td>2.941584</td>\n",
              "      <td>0</td>\n",
              "      <td>3</td>\n",
              "    </tr>\n",
              "    <tr>\n",
              "      <th>3</th>\n",
              "      <td>3.034056</td>\n",
              "      <td>2.550505</td>\n",
              "      <td>2.712052</td>\n",
              "      <td>2.783105</td>\n",
              "      <td>0</td>\n",
              "      <td>3</td>\n",
              "    </tr>\n",
              "    <tr>\n",
              "      <th>4</th>\n",
              "      <td>2.871430</td>\n",
              "      <td>2.695604</td>\n",
              "      <td>3.231170</td>\n",
              "      <td>2.941584</td>\n",
              "      <td>0</td>\n",
              "      <td>3</td>\n",
              "    </tr>\n",
              "    <tr>\n",
              "      <th>...</th>\n",
              "      <td>...</td>\n",
              "      <td>...</td>\n",
              "      <td>...</td>\n",
              "      <td>...</td>\n",
              "      <td>...</td>\n",
              "      <td>...</td>\n",
              "    </tr>\n",
              "    <tr>\n",
              "      <th>362</th>\n",
              "      <td>-1.031588</td>\n",
              "      <td>-1.076977</td>\n",
              "      <td>-0.921777</td>\n",
              "      <td>-1.020400</td>\n",
              "      <td>2</td>\n",
              "      <td>0</td>\n",
              "    </tr>\n",
              "    <tr>\n",
              "      <th>363</th>\n",
              "      <td>-1.194214</td>\n",
              "      <td>-1.076977</td>\n",
              "      <td>-1.094816</td>\n",
              "      <td>-1.020400</td>\n",
              "      <td>2</td>\n",
              "      <td>0</td>\n",
              "    </tr>\n",
              "    <tr>\n",
              "      <th>364</th>\n",
              "      <td>-1.194214</td>\n",
              "      <td>-0.641679</td>\n",
              "      <td>-1.094816</td>\n",
              "      <td>-0.544962</td>\n",
              "      <td>2</td>\n",
              "      <td>0</td>\n",
              "    </tr>\n",
              "    <tr>\n",
              "      <th>365</th>\n",
              "      <td>-1.194214</td>\n",
              "      <td>-1.076977</td>\n",
              "      <td>-1.094816</td>\n",
              "      <td>-1.178879</td>\n",
              "      <td>2</td>\n",
              "      <td>0</td>\n",
              "    </tr>\n",
              "    <tr>\n",
              "      <th>366</th>\n",
              "      <td>-1.194214</td>\n",
              "      <td>-1.076977</td>\n",
              "      <td>-1.094816</td>\n",
              "      <td>-1.178879</td>\n",
              "      <td>2</td>\n",
              "      <td>0</td>\n",
              "    </tr>\n",
              "  </tbody>\n",
              "</table>\n",
              "<p>367 rows × 6 columns</p>\n",
              "</div>"
            ],
            "text/plain": [
              "         Open      High       Low     Close  cluster_kmeans3  cluster_kmeans4\n",
              "0    3.196681  4.291696  3.404209  4.684857                0                3\n",
              "1    3.196681  2.695604  3.231170  3.100063                0                3\n",
              "2    2.871430  2.695604  3.058131  2.941584                0                3\n",
              "3    3.034056  2.550505  2.712052  2.783105                0                3\n",
              "4    2.871430  2.695604  3.231170  2.941584                0                3\n",
              "..        ...       ...       ...       ...              ...              ...\n",
              "362 -1.031588 -1.076977 -0.921777 -1.020400                2                0\n",
              "363 -1.194214 -1.076977 -1.094816 -1.020400                2                0\n",
              "364 -1.194214 -0.641679 -1.094816 -0.544962                2                0\n",
              "365 -1.194214 -1.076977 -1.094816 -1.178879                2                0\n",
              "366 -1.194214 -1.076977 -1.094816 -1.178879                2                0\n",
              "\n",
              "[367 rows x 6 columns]"
            ]
          },
          "metadata": {},
          "execution_count": 12
        }
      ]
    },
    {
      "cell_type": "code",
      "metadata": {
        "colab": {
          "base_uri": "https://localhost:8080/",
          "height": 668
        },
        "id": "2tEYFgT0BOmt",
        "outputId": "b4a6888d-62c8-48d1-ee0b-88be3ee23121"
      },
      "source": [
        "## Tampilkan Plot\n",
        "plt.figure(figsize=(8,4))\n",
        "sns.scatterplot(data_cluster['Low'], data_cluster['High'], hue=data_cluster['cluster_kmeans3'], palette=sns.color_palette('hls',3))\n",
        "plt.title(' KMeans 3 cluster')\n",
        "\n",
        "plt.figure(figsize=(8,4))\n",
        "sns.scatterplot(data_cluster['Low'], data_cluster['High'], hue=data_cluster['cluster_kmeans4'], palette=sns.color_palette('hls',4))\n",
        "plt.title(' KMeans 4 cluster')\n",
        "plt.show()"
      ],
      "execution_count": 13,
      "outputs": [
        {
          "output_type": "stream",
          "name": "stderr",
          "text": [
            "/usr/local/lib/python3.7/dist-packages/seaborn/_decorators.py:43: FutureWarning: Pass the following variables as keyword args: x, y. From version 0.12, the only valid positional argument will be `data`, and passing other arguments without an explicit keyword will result in an error or misinterpretation.\n",
            "  FutureWarning\n",
            "/usr/local/lib/python3.7/dist-packages/seaborn/_decorators.py:43: FutureWarning: Pass the following variables as keyword args: x, y. From version 0.12, the only valid positional argument will be `data`, and passing other arguments without an explicit keyword will result in an error or misinterpretation.\n",
            "  FutureWarning\n"
          ]
        },
        {
          "output_type": "display_data",
          "data": {
            "image/png": "[encoded data removed]",
            "text/plain": [
              "<Figure size 576x288 with 1 Axes>"
            ]
          },
          "metadata": {
            "needs_background": "light"
          }
        },
        {
          "output_type": "display_data",
          "data": {
            "image/png": "[encoded data removed]",
            "text/plain": [
              "<Figure size 576x288 with 1 Axes>"
            ]
          },
          "metadata": {
            "needs_background": "light"
          }
        }
      ]
    },
    {
      "cell_type": "code",
      "metadata": {
        "id": "6BYHovIRBsfm"
      },
      "source": [
        ""
      ],
      "execution_count": null,
      "outputs": []
    },
    {
      "cell_type": "markdown",
      "metadata": {
        "id": "tGKS68VxGZl1"
      },
      "source": [
        "### ***K-Medoids***"
      ]
    },
    {
      "cell_type": "code",
      "metadata": {
        "colab": {
          "base_uri": "https://localhost:8080/",
          "height": 424
        },
        "id": "ktv6rcg3GeZn",
        "outputId": "10f1fda9-e043-41f1-8f4e-415389512325"
      },
      "source": [
        "data"
      ],
      "execution_count": 14,
      "outputs": [
        {
          "output_type": "execute_result",
          "data": {
            "text/html": [
              "<div>\n",
              "<style scoped>\n",
              "    .dataframe tbody tr th:only-of-type {\n",
              "        vertical-align: middle;\n",
              "    }\n",
              "\n",
              "    .dataframe tbody tr th {\n",
              "        vertical-align: top;\n",
              "    }\n",
              "\n",
              "    .dataframe thead th {\n",
              "        text-align: right;\n",
              "    }\n",
              "</style>\n",
              "<table border=\"1\" class=\"dataframe\">\n",
              "  <thead>\n",
              "    <tr style=\"text-align: right;\">\n",
              "      <th></th>\n",
              "      <th>Open</th>\n",
              "      <th>High</th>\n",
              "      <th>Low</th>\n",
              "      <th>Close</th>\n",
              "    </tr>\n",
              "  </thead>\n",
              "  <tbody>\n",
              "    <tr>\n",
              "      <th>0</th>\n",
              "      <td>3.196681</td>\n",
              "      <td>4.291696</td>\n",
              "      <td>3.404209</td>\n",
              "      <td>4.684857</td>\n",
              "    </tr>\n",
              "    <tr>\n",
              "      <th>1</th>\n",
              "      <td>3.196681</td>\n",
              "      <td>2.695604</td>\n",
              "      <td>3.231170</td>\n",
              "      <td>3.100063</td>\n",
              "    </tr>\n",
              "    <tr>\n",
              "      <th>2</th>\n",
              "      <td>2.871430</td>\n",
              "      <td>2.695604</td>\n",
              "      <td>3.058131</td>\n",
              "      <td>2.941584</td>\n",
              "    </tr>\n",
              "    <tr>\n",
              "      <th>3</th>\n",
              "      <td>3.034056</td>\n",
              "      <td>2.550505</td>\n",
              "      <td>2.712052</td>\n",
              "      <td>2.783105</td>\n",
              "    </tr>\n",
              "    <tr>\n",
              "      <th>4</th>\n",
              "      <td>2.871430</td>\n",
              "      <td>2.695604</td>\n",
              "      <td>3.231170</td>\n",
              "      <td>2.941584</td>\n",
              "    </tr>\n",
              "    <tr>\n",
              "      <th>...</th>\n",
              "      <td>...</td>\n",
              "      <td>...</td>\n",
              "      <td>...</td>\n",
              "      <td>...</td>\n",
              "    </tr>\n",
              "    <tr>\n",
              "      <th>362</th>\n",
              "      <td>-1.031588</td>\n",
              "      <td>-1.076977</td>\n",
              "      <td>-0.921777</td>\n",
              "      <td>-1.020400</td>\n",
              "    </tr>\n",
              "    <tr>\n",
              "      <th>363</th>\n",
              "      <td>-1.194214</td>\n",
              "      <td>-1.076977</td>\n",
              "      <td>-1.094816</td>\n",
              "      <td>-1.020400</td>\n",
              "    </tr>\n",
              "    <tr>\n",
              "      <th>364</th>\n",
              "      <td>-1.194214</td>\n",
              "      <td>-0.641679</td>\n",
              "      <td>-1.094816</td>\n",
              "      <td>-0.544962</td>\n",
              "    </tr>\n",
              "    <tr>\n",
              "      <th>365</th>\n",
              "      <td>-1.194214</td>\n",
              "      <td>-1.076977</td>\n",
              "      <td>-1.094816</td>\n",
              "      <td>-1.178879</td>\n",
              "    </tr>\n",
              "    <tr>\n",
              "      <th>366</th>\n",
              "      <td>-1.194214</td>\n",
              "      <td>-1.076977</td>\n",
              "      <td>-1.094816</td>\n",
              "      <td>-1.178879</td>\n",
              "    </tr>\n",
              "  </tbody>\n",
              "</table>\n",
              "<p>367 rows × 4 columns</p>\n",
              "</div>"
            ],
            "text/plain": [
              "         Open      High       Low     Close\n",
              "0    3.196681  4.291696  3.404209  4.684857\n",
              "1    3.196681  2.695604  3.231170  3.100063\n",
              "2    2.871430  2.695604  3.058131  2.941584\n",
              "3    3.034056  2.550505  2.712052  2.783105\n",
              "4    2.871430  2.695604  3.231170  2.941584\n",
              "..        ...       ...       ...       ...\n",
              "362 -1.031588 -1.076977 -0.921777 -1.020400\n",
              "363 -1.194214 -1.076977 -1.094816 -1.020400\n",
              "364 -1.194214 -0.641679 -1.094816 -0.544962\n",
              "365 -1.194214 -1.076977 -1.094816 -1.178879\n",
              "366 -1.194214 -1.076977 -1.094816 -1.178879\n",
              "\n",
              "[367 rows x 4 columns]"
            ]
          },
          "metadata": {},
          "execution_count": 14
        }
      ]
    },
    {
      "cell_type": "code",
      "metadata": {
        "id": "9yIGrcCoGvGo"
      },
      "source": [
        "from sklearn_extra.cluster import KMedoids"
      ],
      "execution_count": 15,
      "outputs": []
    },
    {
      "cell_type": "code",
      "metadata": {
        "colab": {
          "base_uri": "https://localhost:8080/",
          "height": 518
        },
        "id": "8x3MqF83czXk",
        "outputId": "fe12c622-4728-4289-ef8c-84b6794d10c4"
      },
      "source": [
        "model_kmedoids = KMedoids(n_clusters=4, random_state=0)\n",
        "model_kmedoids.fit(data)\n",
        "\n",
        "data_cluster['Cluster K-Medoids'] = model_kmedoids.labels_\n",
        "data_cluster"
      ],
      "execution_count": 16,
      "outputs": [
        {
          "output_type": "stream",
          "name": "stderr",
          "text": [
            "/usr/local/lib/python3.7/dist-packages/sklearn_extra/cluster/_k_medoids.py:279: UserWarning: Cluster 2 is empty! self.labels_[self.medoid_indices_[2]] may not be labeled with its corresponding cluster (2).\n",
            "  \"its corresponding cluster ({k}).\".format(k=k)\n",
            "/usr/local/lib/python3.7/dist-packages/sklearn_extra/cluster/_k_medoids.py:279: UserWarning: Cluster 3 is empty! self.labels_[self.medoid_indices_[3]] may not be labeled with its corresponding cluster (3).\n",
            "  \"its corresponding cluster ({k}).\".format(k=k)\n"
          ]
        },
        {
          "output_type": "execute_result",
          "data": {
            "text/html": [
              "<div>\n",
              "<style scoped>\n",
              "    .dataframe tbody tr th:only-of-type {\n",
              "        vertical-align: middle;\n",
              "    }\n",
              "\n",
              "    .dataframe tbody tr th {\n",
              "        vertical-align: top;\n",
              "    }\n",
              "\n",
              "    .dataframe thead th {\n",
              "        text-align: right;\n",
              "    }\n",
              "</style>\n",
              "<table border=\"1\" class=\"dataframe\">\n",
              "  <thead>\n",
              "    <tr style=\"text-align: right;\">\n",
              "      <th></th>\n",
              "      <th>Open</th>\n",
              "      <th>High</th>\n",
              "      <th>Low</th>\n",
              "      <th>Close</th>\n",
              "      <th>cluster_kmeans3</th>\n",
              "      <th>cluster_kmeans4</th>\n",
              "      <th>Cluster K-Medoids</th>\n",
              "    </tr>\n",
              "  </thead>\n",
              "  <tbody>\n",
              "    <tr>\n",
              "      <th>0</th>\n",
              "      <td>3.196681</td>\n",
              "      <td>4.291696</td>\n",
              "      <td>3.404209</td>\n",
              "      <td>4.684857</td>\n",
              "      <td>0</td>\n",
              "      <td>3</td>\n",
              "      <td>0</td>\n",
              "    </tr>\n",
              "    <tr>\n",
              "      <th>1</th>\n",
              "      <td>3.196681</td>\n",
              "      <td>2.695604</td>\n",
              "      <td>3.231170</td>\n",
              "      <td>3.100063</td>\n",
              "      <td>0</td>\n",
              "      <td>3</td>\n",
              "      <td>0</td>\n",
              "    </tr>\n",
              "    <tr>\n",
              "      <th>2</th>\n",
              "      <td>2.871430</td>\n",
              "      <td>2.695604</td>\n",
              "      <td>3.058131</td>\n",
              "      <td>2.941584</td>\n",
              "      <td>0</td>\n",
              "      <td>3</td>\n",
              "      <td>0</td>\n",
              "    </tr>\n",
              "    <tr>\n",
              "      <th>3</th>\n",
              "      <td>3.034056</td>\n",
              "      <td>2.550505</td>\n",
              "      <td>2.712052</td>\n",
              "      <td>2.783105</td>\n",
              "      <td>0</td>\n",
              "      <td>3</td>\n",
              "      <td>0</td>\n",
              "    </tr>\n",
              "    <tr>\n",
              "      <th>4</th>\n",
              "      <td>2.871430</td>\n",
              "      <td>2.695604</td>\n",
              "      <td>3.231170</td>\n",
              "      <td>2.941584</td>\n",
              "      <td>0</td>\n",
              "      <td>3</td>\n",
              "      <td>0</td>\n",
              "    </tr>\n",
              "    <tr>\n",
              "      <th>...</th>\n",
              "      <td>...</td>\n",
              "      <td>...</td>\n",
              "      <td>...</td>\n",
              "      <td>...</td>\n",
              "      <td>...</td>\n",
              "      <td>...</td>\n",
              "      <td>...</td>\n",
              "    </tr>\n",
              "    <tr>\n",
              "      <th>362</th>\n",
              "      <td>-1.031588</td>\n",
              "      <td>-1.076977</td>\n",
              "      <td>-0.921777</td>\n",
              "      <td>-1.020400</td>\n",
              "      <td>2</td>\n",
              "      <td>0</td>\n",
              "      <td>1</td>\n",
              "    </tr>\n",
              "    <tr>\n",
              "      <th>363</th>\n",
              "      <td>-1.194214</td>\n",
              "      <td>-1.076977</td>\n",
              "      <td>-1.094816</td>\n",
              "      <td>-1.020400</td>\n",
              "      <td>2</td>\n",
              "      <td>0</td>\n",
              "      <td>1</td>\n",
              "    </tr>\n",
              "    <tr>\n",
              "      <th>364</th>\n",
              "      <td>-1.194214</td>\n",
              "      <td>-0.641679</td>\n",
              "      <td>-1.094816</td>\n",
              "      <td>-0.544962</td>\n",
              "      <td>2</td>\n",
              "      <td>0</td>\n",
              "      <td>1</td>\n",
              "    </tr>\n",
              "    <tr>\n",
              "      <th>365</th>\n",
              "      <td>-1.194214</td>\n",
              "      <td>-1.076977</td>\n",
              "      <td>-1.094816</td>\n",
              "      <td>-1.178879</td>\n",
              "      <td>2</td>\n",
              "      <td>0</td>\n",
              "      <td>1</td>\n",
              "    </tr>\n",
              "    <tr>\n",
              "      <th>366</th>\n",
              "      <td>-1.194214</td>\n",
              "      <td>-1.076977</td>\n",
              "      <td>-1.094816</td>\n",
              "      <td>-1.178879</td>\n",
              "      <td>2</td>\n",
              "      <td>0</td>\n",
              "      <td>1</td>\n",
              "    </tr>\n",
              "  </tbody>\n",
              "</table>\n",
              "<p>367 rows × 7 columns</p>\n",
              "</div>"
            ],
            "text/plain": [
              "         Open      High  ...  cluster_kmeans4  Cluster K-Medoids\n",
              "0    3.196681  4.291696  ...                3                  0\n",
              "1    3.196681  2.695604  ...                3                  0\n",
              "2    2.871430  2.695604  ...                3                  0\n",
              "3    3.034056  2.550505  ...                3                  0\n",
              "4    2.871430  2.695604  ...                3                  0\n",
              "..        ...       ...  ...              ...                ...\n",
              "362 -1.031588 -1.076977  ...                0                  1\n",
              "363 -1.194214 -1.076977  ...                0                  1\n",
              "364 -1.194214 -0.641679  ...                0                  1\n",
              "365 -1.194214 -1.076977  ...                0                  1\n",
              "366 -1.194214 -1.076977  ...                0                  1\n",
              "\n",
              "[367 rows x 7 columns]"
            ]
          },
          "metadata": {},
          "execution_count": 16
        }
      ]
    },
    {
      "cell_type": "code",
      "metadata": {
        "colab": {
          "base_uri": "https://localhost:8080/",
          "height": 352
        },
        "id": "b4QVmeh8dEyz",
        "outputId": "e66acd37-bfba-4ac6-dfe1-27082b7eed47"
      },
      "source": [
        "plt.figure(figsize=(8,4))\n",
        "sns.scatterplot(data_cluster['Low'], data_cluster['High'], hue=data_cluster['Cluster K-Medoids'], palette=sns.color_palette('hls',4))\n",
        "plt.title(' K-Medoids 4 cluster')\n",
        "plt.show()"
      ],
      "execution_count": 17,
      "outputs": [
        {
          "output_type": "stream",
          "name": "stderr",
          "text": [
            "/usr/local/lib/python3.7/dist-packages/seaborn/_decorators.py:43: FutureWarning: Pass the following variables as keyword args: x, y. From version 0.12, the only valid positional argument will be `data`, and passing other arguments without an explicit keyword will result in an error or misinterpretation.\n",
            "  FutureWarning\n"
          ]
        },
        {
          "output_type": "display_data",
          "data": {
            "image/png": "[encoded data removed]",
            "text/plain": [
              "<Figure size 576x288 with 1 Axes>"
            ]
          },
          "metadata": {
            "needs_background": "light"
          }
        }
      ]
    },
    {
      "cell_type": "markdown",
      "metadata": {
        "id": "WGCKE47EBt7n"
      },
      "source": [
        "### ***Hierarchy***"
      ]
    },
    {
      "cell_type": "code",
      "metadata": {
        "colab": {
          "base_uri": "https://localhost:8080/",
          "height": 424
        },
        "id": "Y8MVFUgjBy5v",
        "outputId": "a6495989-b9a9-41e7-d72b-21ac64394d2e"
      },
      "source": [
        "data"
      ],
      "execution_count": 19,
      "outputs": [
        {
          "output_type": "execute_result",
          "data": {
            "text/html": [
              "<div>\n",
              "<style scoped>\n",
              "    .dataframe tbody tr th:only-of-type {\n",
              "        vertical-align: middle;\n",
              "    }\n",
              "\n",
              "    .dataframe tbody tr th {\n",
              "        vertical-align: top;\n",
              "    }\n",
              "\n",
              "    .dataframe thead th {\n",
              "        text-align: right;\n",
              "    }\n",
              "</style>\n",
              "<table border=\"1\" class=\"dataframe\">\n",
              "  <thead>\n",
              "    <tr style=\"text-align: right;\">\n",
              "      <th></th>\n",
              "      <th>Open</th>\n",
              "      <th>High</th>\n",
              "      <th>Low</th>\n",
              "      <th>Close</th>\n",
              "    </tr>\n",
              "  </thead>\n",
              "  <tbody>\n",
              "    <tr>\n",
              "      <th>0</th>\n",
              "      <td>3.196681</td>\n",
              "      <td>4.291696</td>\n",
              "      <td>3.404209</td>\n",
              "      <td>4.684857</td>\n",
              "    </tr>\n",
              "    <tr>\n",
              "      <th>1</th>\n",
              "      <td>3.196681</td>\n",
              "      <td>2.695604</td>\n",
              "      <td>3.231170</td>\n",
              "      <td>3.100063</td>\n",
              "    </tr>\n",
              "    <tr>\n",
              "      <th>2</th>\n",
              "      <td>2.871430</td>\n",
              "      <td>2.695604</td>\n",
              "      <td>3.058131</td>\n",
              "      <td>2.941584</td>\n",
              "    </tr>\n",
              "    <tr>\n",
              "      <th>3</th>\n",
              "      <td>3.034056</td>\n",
              "      <td>2.550505</td>\n",
              "      <td>2.712052</td>\n",
              "      <td>2.783105</td>\n",
              "    </tr>\n",
              "    <tr>\n",
              "      <th>4</th>\n",
              "      <td>2.871430</td>\n",
              "      <td>2.695604</td>\n",
              "      <td>3.231170</td>\n",
              "      <td>2.941584</td>\n",
              "    </tr>\n",
              "    <tr>\n",
              "      <th>...</th>\n",
              "      <td>...</td>\n",
              "      <td>...</td>\n",
              "      <td>...</td>\n",
              "      <td>...</td>\n",
              "    </tr>\n",
              "    <tr>\n",
              "      <th>362</th>\n",
              "      <td>-1.031588</td>\n",
              "      <td>-1.076977</td>\n",
              "      <td>-0.921777</td>\n",
              "      <td>-1.020400</td>\n",
              "    </tr>\n",
              "    <tr>\n",
              "      <th>363</th>\n",
              "      <td>-1.194214</td>\n",
              "      <td>-1.076977</td>\n",
              "      <td>-1.094816</td>\n",
              "      <td>-1.020400</td>\n",
              "    </tr>\n",
              "    <tr>\n",
              "      <th>364</th>\n",
              "      <td>-1.194214</td>\n",
              "      <td>-0.641679</td>\n",
              "      <td>-1.094816</td>\n",
              "      <td>-0.544962</td>\n",
              "    </tr>\n",
              "    <tr>\n",
              "      <th>365</th>\n",
              "      <td>-1.194214</td>\n",
              "      <td>-1.076977</td>\n",
              "      <td>-1.094816</td>\n",
              "      <td>-1.178879</td>\n",
              "    </tr>\n",
              "    <tr>\n",
              "      <th>366</th>\n",
              "      <td>-1.194214</td>\n",
              "      <td>-1.076977</td>\n",
              "      <td>-1.094816</td>\n",
              "      <td>-1.178879</td>\n",
              "    </tr>\n",
              "  </tbody>\n",
              "</table>\n",
              "<p>367 rows × 4 columns</p>\n",
              "</div>"
            ],
            "text/plain": [
              "         Open      High       Low     Close\n",
              "0    3.196681  4.291696  3.404209  4.684857\n",
              "1    3.196681  2.695604  3.231170  3.100063\n",
              "2    2.871430  2.695604  3.058131  2.941584\n",
              "3    3.034056  2.550505  2.712052  2.783105\n",
              "4    2.871430  2.695604  3.231170  2.941584\n",
              "..        ...       ...       ...       ...\n",
              "362 -1.031588 -1.076977 -0.921777 -1.020400\n",
              "363 -1.194214 -1.076977 -1.094816 -1.020400\n",
              "364 -1.194214 -0.641679 -1.094816 -0.544962\n",
              "365 -1.194214 -1.076977 -1.094816 -1.178879\n",
              "366 -1.194214 -1.076977 -1.094816 -1.178879\n",
              "\n",
              "[367 rows x 4 columns]"
            ]
          },
          "metadata": {},
          "execution_count": 19
        }
      ]
    },
    {
      "cell_type": "code",
      "metadata": {
        "id": "RihsLVECB5t3"
      },
      "source": [
        "from scipy.cluster.hierarchy import linkage\n",
        "from scipy.cluster.hierarchy import dendrogram\n",
        "from scipy.cluster.hierarchy import cut_tree"
      ],
      "execution_count": 20,
      "outputs": []
    },
    {
      "cell_type": "code",
      "metadata": {
        "colab": {
          "base_uri": "https://localhost:8080/",
          "height": 463
        },
        "id": "4lJ40500B7RN",
        "outputId": "ffaf5769-d3ed-4288-f590-eaa6def165c7"
      },
      "source": [
        "from scipy.cluster.hierarchy import dendrogram, linkage\n",
        "\n",
        "plt.figure(figsize=(10,7))\n",
        "plt.title(\"Dendrogram\")\n",
        "dend = dendrogram(linkage(data, method=\"ward\"))\n",
        "plt.axhline(y=35, color='r', linestyle='--')"
      ],
      "execution_count": 22,
      "outputs": [
        {
          "output_type": "execute_result",
          "data": {
            "text/plain": [
              "<matplotlib.lines.Line2D at 0x7f160892a410>"
            ]
          },
          "metadata": {},
          "execution_count": 22
        },
        {
          "output_type": "display_data",
          "data": {
            "image/png": "[encoded data removed]",
            "text/plain": [
              "<Figure size 720x504 with 1 Axes>"
            ]
          },
          "metadata": {
            "needs_background": "light"
          }
        }
      ]
    },
    {
      "cell_type": "code",
      "metadata": {
        "colab": {
          "base_uri": "https://localhost:8080/"
        },
        "id": "VZT4-H8CCHJm",
        "outputId": "ec79156d-328d-4ea0-e8a0-60afa2ddb798"
      },
      "source": [
        "# 3 clusters\n",
        "cluster_hierarchy = cut_tree(mergings_complete, n_clusters=3).reshape(-1, )\n",
        "cluster_hierarchy"
      ],
      "execution_count": 57,
      "outputs": [
        {
          "output_type": "execute_result",
          "data": {
            "text/plain": [
              "array([0, 0, 0, 0, 0, 0, 0, 0, 1, 1, 0, 0, 1, 1, 1, 1, 1, 1, 1, 1, 1, 2,\n",
              "       1, 1, 1, 1, 1, 1, 1, 1, 1, 1, 1, 1, 1, 1, 1, 1, 1, 1, 1, 1, 2, 2,\n",
              "       2, 2, 2, 2, 2, 2, 2, 2, 2, 2, 2, 2, 2, 2, 2, 2, 2, 2, 2, 2, 2, 2,\n",
              "       2, 2, 2, 2, 2, 2, 2, 2, 2, 2, 2, 2, 2, 2, 2, 2, 2, 2, 2, 2, 2, 2,\n",
              "       2, 2, 2, 2, 2, 2, 2, 2, 2, 2, 2, 2, 2, 2, 2, 2, 2, 2, 2, 2, 2, 2,\n",
              "       2, 2, 2, 2, 2, 2, 2, 2, 2, 2, 2, 1, 1, 1, 1, 1, 1, 1, 1, 1, 1, 1,\n",
              "       1, 1, 1, 1, 1, 1, 1, 1, 1, 1, 1, 1, 1, 1, 1, 1, 1, 1, 1, 1, 1, 1,\n",
              "       1, 1, 1, 1, 1, 1, 1, 1, 1, 1, 1, 1, 1, 1, 2, 2, 1, 1, 1, 1, 1, 1,\n",
              "       0, 0, 2, 2, 2, 2, 2, 2, 2, 2, 2, 2, 2, 2, 2, 2, 2, 2, 2, 2, 2, 2,\n",
              "       2, 2, 2, 2, 2, 2, 2, 2, 2, 2, 2, 2, 2, 2, 2, 2, 2, 2, 2, 2, 2, 2,\n",
              "       2, 2, 2, 2, 2, 2, 2, 2, 2, 2, 2, 2, 2, 2, 2, 2, 2, 2, 2, 2, 2, 2,\n",
              "       2, 2, 2, 2, 2, 2, 2, 2, 2, 2, 2, 2, 2, 2, 2, 2, 2, 2, 2, 2, 2, 2,\n",
              "       2, 2, 2, 2, 2, 2, 2, 2, 2, 2, 2, 2, 2, 2, 2, 2, 2, 2, 2, 2, 2, 2,\n",
              "       2, 2, 2, 2, 2, 2, 2, 2, 2, 2, 2, 2, 2, 2, 2, 2, 2, 2, 2, 2, 2, 2,\n",
              "       2, 2, 2, 2, 2, 2, 2, 2, 2, 2, 2, 2, 2, 2, 1, 2, 1, 2, 2, 1, 2, 2,\n",
              "       2, 2, 2, 2, 2, 2, 2, 2, 2, 2, 2, 2, 2, 2, 2, 2, 2, 2, 2, 2, 2, 2,\n",
              "       2, 2, 2, 2, 2, 2, 2, 2, 2, 2, 2, 2, 2, 2, 2])"
            ]
          },
          "metadata": {},
          "execution_count": 57
        }
      ]
    },
    {
      "cell_type": "code",
      "metadata": {
        "colab": {
          "base_uri": "https://localhost:8080/",
          "height": 424
        },
        "id": "fhkV8ifxCJ0-",
        "outputId": "6718eff1-7484-4502-f495-0fae954eca85"
      },
      "source": [
        "data_cluster['cluster_hierarchy'] = cluster_hierarchy\n",
        "data_cluster"
      ],
      "execution_count": 58,
      "outputs": [
        {
          "output_type": "execute_result",
          "data": {
            "text/html": [
              "<div>\n",
              "<style scoped>\n",
              "    .dataframe tbody tr th:only-of-type {\n",
              "        vertical-align: middle;\n",
              "    }\n",
              "\n",
              "    .dataframe tbody tr th {\n",
              "        vertical-align: top;\n",
              "    }\n",
              "\n",
              "    .dataframe thead th {\n",
              "        text-align: right;\n",
              "    }\n",
              "</style>\n",
              "<table border=\"1\" class=\"dataframe\">\n",
              "  <thead>\n",
              "    <tr style=\"text-align: right;\">\n",
              "      <th></th>\n",
              "      <th>Open</th>\n",
              "      <th>High</th>\n",
              "      <th>Low</th>\n",
              "      <th>Close</th>\n",
              "      <th>cluster_kmeans3</th>\n",
              "      <th>cluster_kmeans4</th>\n",
              "      <th>cluster_hierarchy</th>\n",
              "    </tr>\n",
              "  </thead>\n",
              "  <tbody>\n",
              "    <tr>\n",
              "      <th>0</th>\n",
              "      <td>3.196681</td>\n",
              "      <td>4.291696</td>\n",
              "      <td>3.404209</td>\n",
              "      <td>4.684857</td>\n",
              "      <td>1</td>\n",
              "      <td>1</td>\n",
              "      <td>0</td>\n",
              "    </tr>\n",
              "    <tr>\n",
              "      <th>1</th>\n",
              "      <td>3.196681</td>\n",
              "      <td>2.695604</td>\n",
              "      <td>3.231170</td>\n",
              "      <td>3.100063</td>\n",
              "      <td>1</td>\n",
              "      <td>1</td>\n",
              "      <td>0</td>\n",
              "    </tr>\n",
              "    <tr>\n",
              "      <th>2</th>\n",
              "      <td>2.871430</td>\n",
              "      <td>2.695604</td>\n",
              "      <td>3.058131</td>\n",
              "      <td>2.941584</td>\n",
              "      <td>1</td>\n",
              "      <td>1</td>\n",
              "      <td>0</td>\n",
              "    </tr>\n",
              "    <tr>\n",
              "      <th>3</th>\n",
              "      <td>3.034056</td>\n",
              "      <td>2.550505</td>\n",
              "      <td>2.712052</td>\n",
              "      <td>2.783105</td>\n",
              "      <td>1</td>\n",
              "      <td>1</td>\n",
              "      <td>0</td>\n",
              "    </tr>\n",
              "    <tr>\n",
              "      <th>4</th>\n",
              "      <td>2.871430</td>\n",
              "      <td>2.695604</td>\n",
              "      <td>3.231170</td>\n",
              "      <td>2.941584</td>\n",
              "      <td>1</td>\n",
              "      <td>1</td>\n",
              "      <td>0</td>\n",
              "    </tr>\n",
              "    <tr>\n",
              "      <th>...</th>\n",
              "      <td>...</td>\n",
              "      <td>...</td>\n",
              "      <td>...</td>\n",
              "      <td>...</td>\n",
              "      <td>...</td>\n",
              "      <td>...</td>\n",
              "      <td>...</td>\n",
              "    </tr>\n",
              "    <tr>\n",
              "      <th>362</th>\n",
              "      <td>-1.031588</td>\n",
              "      <td>-1.076977</td>\n",
              "      <td>-0.921777</td>\n",
              "      <td>-1.020400</td>\n",
              "      <td>2</td>\n",
              "      <td>3</td>\n",
              "      <td>2</td>\n",
              "    </tr>\n",
              "    <tr>\n",
              "      <th>363</th>\n",
              "      <td>-1.194214</td>\n",
              "      <td>-1.076977</td>\n",
              "      <td>-1.094816</td>\n",
              "      <td>-1.020400</td>\n",
              "      <td>2</td>\n",
              "      <td>3</td>\n",
              "      <td>2</td>\n",
              "    </tr>\n",
              "    <tr>\n",
              "      <th>364</th>\n",
              "      <td>-1.194214</td>\n",
              "      <td>-0.641679</td>\n",
              "      <td>-1.094816</td>\n",
              "      <td>-0.544962</td>\n",
              "      <td>2</td>\n",
              "      <td>3</td>\n",
              "      <td>2</td>\n",
              "    </tr>\n",
              "    <tr>\n",
              "      <th>365</th>\n",
              "      <td>-1.194214</td>\n",
              "      <td>-1.076977</td>\n",
              "      <td>-1.094816</td>\n",
              "      <td>-1.178879</td>\n",
              "      <td>2</td>\n",
              "      <td>3</td>\n",
              "      <td>2</td>\n",
              "    </tr>\n",
              "    <tr>\n",
              "      <th>366</th>\n",
              "      <td>-1.194214</td>\n",
              "      <td>-1.076977</td>\n",
              "      <td>-1.094816</td>\n",
              "      <td>-1.178879</td>\n",
              "      <td>2</td>\n",
              "      <td>3</td>\n",
              "      <td>2</td>\n",
              "    </tr>\n",
              "  </tbody>\n",
              "</table>\n",
              "<p>367 rows × 7 columns</p>\n",
              "</div>"
            ],
            "text/plain": [
              "         Open      High  ...  cluster_kmeans4  cluster_hierarchy\n",
              "0    3.196681  4.291696  ...                1                  0\n",
              "1    3.196681  2.695604  ...                1                  0\n",
              "2    2.871430  2.695604  ...                1                  0\n",
              "3    3.034056  2.550505  ...                1                  0\n",
              "4    2.871430  2.695604  ...                1                  0\n",
              "..        ...       ...  ...              ...                ...\n",
              "362 -1.031588 -1.076977  ...                3                  2\n",
              "363 -1.194214 -1.076977  ...                3                  2\n",
              "364 -1.194214 -0.641679  ...                3                  2\n",
              "365 -1.194214 -1.076977  ...                3                  2\n",
              "366 -1.194214 -1.076977  ...                3                  2\n",
              "\n",
              "[367 rows x 7 columns]"
            ]
          },
          "metadata": {},
          "execution_count": 58
        }
      ]
    },
    {
      "cell_type": "code",
      "metadata": {
        "colab": {
          "base_uri": "https://localhost:8080/",
          "height": 371
        },
        "id": "Hr1UdlQtCMD1",
        "outputId": "e3630225-4bcf-4d39-905e-4ed795714749"
      },
      "source": [
        "## Tampilkan Plot\n",
        "plt.figure(figsize=(8,4))\n",
        "sns.scatterplot(data_cluster['Low'], data_cluster['High'], hue=data_cluster['cluster_hierarchy'], palette=sns.color_palette('hls',3))\n",
        "plt.title(' Hierarchical Clustering')"
      ],
      "execution_count": 59,
      "outputs": [
        {
          "output_type": "stream",
          "name": "stderr",
          "text": [
            "/usr/local/lib/python3.7/dist-packages/seaborn/_decorators.py:43: FutureWarning: Pass the following variables as keyword args: x, y. From version 0.12, the only valid positional argument will be `data`, and passing other arguments without an explicit keyword will result in an error or misinterpretation.\n",
            "  FutureWarning\n"
          ]
        },
        {
          "output_type": "execute_result",
          "data": {
            "text/plain": [
              "Text(0.5, 1.0, ' Hierarchical Clustering')"
            ]
          },
          "metadata": {},
          "execution_count": 59
        },
        {
          "output_type": "display_data",
          "data": {
            "image/png": "[encoded data removed]",
            "text/plain": [
              "<Figure size 576x288 with 1 Axes>"
            ]
          },
          "metadata": {
            "needs_background": "light"
          }
        }
      ]
    },
    {
      "cell_type": "code",
      "metadata": {
        "id": "Lk9zVshDCWwh"
      },
      "source": [
        ""
      ],
      "execution_count": null,
      "outputs": []
    },
    {
      "cell_type": "markdown",
      "metadata": {
        "id": "KHWptpY3CaDk"
      },
      "source": [
        "### ***DBSCAN***"
      ]
    },
    {
      "cell_type": "code",
      "metadata": {
        "id": "1cqh6-JqCdju"
      },
      "source": [
        "from sklearn.cluster import DBSCAN"
      ],
      "execution_count": 60,
      "outputs": []
    },
    {
      "cell_type": "code",
      "metadata": {
        "colab": {
          "base_uri": "https://localhost:8080/",
          "height": 424
        },
        "id": "Zb58k2scCgmO",
        "outputId": "b31da7f8-22d4-44bd-c994-720407b0de27"
      },
      "source": [
        "data"
      ],
      "execution_count": 61,
      "outputs": [
        {
          "output_type": "execute_result",
          "data": {
            "text/html": [
              "<div>\n",
              "<style scoped>\n",
              "    .dataframe tbody tr th:only-of-type {\n",
              "        vertical-align: middle;\n",
              "    }\n",
              "\n",
              "    .dataframe tbody tr th {\n",
              "        vertical-align: top;\n",
              "    }\n",
              "\n",
              "    .dataframe thead th {\n",
              "        text-align: right;\n",
              "    }\n",
              "</style>\n",
              "<table border=\"1\" class=\"dataframe\">\n",
              "  <thead>\n",
              "    <tr style=\"text-align: right;\">\n",
              "      <th></th>\n",
              "      <th>Open</th>\n",
              "      <th>High</th>\n",
              "      <th>Low</th>\n",
              "      <th>Close</th>\n",
              "    </tr>\n",
              "  </thead>\n",
              "  <tbody>\n",
              "    <tr>\n",
              "      <th>0</th>\n",
              "      <td>3.196681</td>\n",
              "      <td>4.291696</td>\n",
              "      <td>3.404209</td>\n",
              "      <td>4.684857</td>\n",
              "    </tr>\n",
              "    <tr>\n",
              "      <th>1</th>\n",
              "      <td>3.196681</td>\n",
              "      <td>2.695604</td>\n",
              "      <td>3.231170</td>\n",
              "      <td>3.100063</td>\n",
              "    </tr>\n",
              "    <tr>\n",
              "      <th>2</th>\n",
              "      <td>2.871430</td>\n",
              "      <td>2.695604</td>\n",
              "      <td>3.058131</td>\n",
              "      <td>2.941584</td>\n",
              "    </tr>\n",
              "    <tr>\n",
              "      <th>3</th>\n",
              "      <td>3.034056</td>\n",
              "      <td>2.550505</td>\n",
              "      <td>2.712052</td>\n",
              "      <td>2.783105</td>\n",
              "    </tr>\n",
              "    <tr>\n",
              "      <th>4</th>\n",
              "      <td>2.871430</td>\n",
              "      <td>2.695604</td>\n",
              "      <td>3.231170</td>\n",
              "      <td>2.941584</td>\n",
              "    </tr>\n",
              "    <tr>\n",
              "      <th>...</th>\n",
              "      <td>...</td>\n",
              "      <td>...</td>\n",
              "      <td>...</td>\n",
              "      <td>...</td>\n",
              "    </tr>\n",
              "    <tr>\n",
              "      <th>362</th>\n",
              "      <td>-1.031588</td>\n",
              "      <td>-1.076977</td>\n",
              "      <td>-0.921777</td>\n",
              "      <td>-1.020400</td>\n",
              "    </tr>\n",
              "    <tr>\n",
              "      <th>363</th>\n",
              "      <td>-1.194214</td>\n",
              "      <td>-1.076977</td>\n",
              "      <td>-1.094816</td>\n",
              "      <td>-1.020400</td>\n",
              "    </tr>\n",
              "    <tr>\n",
              "      <th>364</th>\n",
              "      <td>-1.194214</td>\n",
              "      <td>-0.641679</td>\n",
              "      <td>-1.094816</td>\n",
              "      <td>-0.544962</td>\n",
              "    </tr>\n",
              "    <tr>\n",
              "      <th>365</th>\n",
              "      <td>-1.194214</td>\n",
              "      <td>-1.076977</td>\n",
              "      <td>-1.094816</td>\n",
              "      <td>-1.178879</td>\n",
              "    </tr>\n",
              "    <tr>\n",
              "      <th>366</th>\n",
              "      <td>-1.194214</td>\n",
              "      <td>-1.076977</td>\n",
              "      <td>-1.094816</td>\n",
              "      <td>-1.178879</td>\n",
              "    </tr>\n",
              "  </tbody>\n",
              "</table>\n",
              "<p>367 rows × 4 columns</p>\n",
              "</div>"
            ],
            "text/plain": [
              "         Open      High       Low     Close\n",
              "0    3.196681  4.291696  3.404209  4.684857\n",
              "1    3.196681  2.695604  3.231170  3.100063\n",
              "2    2.871430  2.695604  3.058131  2.941584\n",
              "3    3.034056  2.550505  2.712052  2.783105\n",
              "4    2.871430  2.695604  3.231170  2.941584\n",
              "..        ...       ...       ...       ...\n",
              "362 -1.031588 -1.076977 -0.921777 -1.020400\n",
              "363 -1.194214 -1.076977 -1.094816 -1.020400\n",
              "364 -1.194214 -0.641679 -1.094816 -0.544962\n",
              "365 -1.194214 -1.076977 -1.094816 -1.178879\n",
              "366 -1.194214 -1.076977 -1.094816 -1.178879\n",
              "\n",
              "[367 rows x 4 columns]"
            ]
          },
          "metadata": {},
          "execution_count": 61
        }
      ]
    },
    {
      "cell_type": "code",
      "metadata": {
        "colab": {
          "base_uri": "https://localhost:8080/"
        },
        "id": "0wnfiR7bCjxo",
        "outputId": "2565c5c8-362a-414e-c3be-7c97651ab31d"
      },
      "source": [
        "# create an object\n",
        "db = DBSCAN(eps=0.7, min_samples=5, metric='euclidean')\n",
        "\n",
        "# fit the model\n",
        "db.fit(data)"
      ],
      "execution_count": 62,
      "outputs": [
        {
          "output_type": "execute_result",
          "data": {
            "text/plain": [
              "DBSCAN(algorithm='auto', eps=0.7, leaf_size=30, metric='euclidean',\n",
              "       metric_params=None, min_samples=5, n_jobs=None, p=None)"
            ]
          },
          "metadata": {},
          "execution_count": 62
        }
      ]
    },
    {
      "cell_type": "code",
      "metadata": {
        "colab": {
          "base_uri": "https://localhost:8080/",
          "height": 424
        },
        "id": "ZoAVYKqiCmXc",
        "outputId": "02298f67-05e9-4345-b1c4-c09c6ad28b10"
      },
      "source": [
        "# assign cluster labels\n",
        "data_cluster['cluster_dbscan'] = db.labels_\n",
        "data_cluster"
      ],
      "execution_count": 63,
      "outputs": [
        {
          "output_type": "execute_result",
          "data": {
            "text/html": [
              "<div>\n",
              "<style scoped>\n",
              "    .dataframe tbody tr th:only-of-type {\n",
              "        vertical-align: middle;\n",
              "    }\n",
              "\n",
              "    .dataframe tbody tr th {\n",
              "        vertical-align: top;\n",
              "    }\n",
              "\n",
              "    .dataframe thead th {\n",
              "        text-align: right;\n",
              "    }\n",
              "</style>\n",
              "<table border=\"1\" class=\"dataframe\">\n",
              "  <thead>\n",
              "    <tr style=\"text-align: right;\">\n",
              "      <th></th>\n",
              "      <th>Open</th>\n",
              "      <th>High</th>\n",
              "      <th>Low</th>\n",
              "      <th>Close</th>\n",
              "      <th>cluster_kmeans3</th>\n",
              "      <th>cluster_kmeans4</th>\n",
              "      <th>cluster_hierarchy</th>\n",
              "      <th>cluster_dbscan</th>\n",
              "    </tr>\n",
              "  </thead>\n",
              "  <tbody>\n",
              "    <tr>\n",
              "      <th>0</th>\n",
              "      <td>3.196681</td>\n",
              "      <td>4.291696</td>\n",
              "      <td>3.404209</td>\n",
              "      <td>4.684857</td>\n",
              "      <td>1</td>\n",
              "      <td>1</td>\n",
              "      <td>0</td>\n",
              "      <td>-1</td>\n",
              "    </tr>\n",
              "    <tr>\n",
              "      <th>1</th>\n",
              "      <td>3.196681</td>\n",
              "      <td>2.695604</td>\n",
              "      <td>3.231170</td>\n",
              "      <td>3.100063</td>\n",
              "      <td>1</td>\n",
              "      <td>1</td>\n",
              "      <td>0</td>\n",
              "      <td>0</td>\n",
              "    </tr>\n",
              "    <tr>\n",
              "      <th>2</th>\n",
              "      <td>2.871430</td>\n",
              "      <td>2.695604</td>\n",
              "      <td>3.058131</td>\n",
              "      <td>2.941584</td>\n",
              "      <td>1</td>\n",
              "      <td>1</td>\n",
              "      <td>0</td>\n",
              "      <td>0</td>\n",
              "    </tr>\n",
              "    <tr>\n",
              "      <th>3</th>\n",
              "      <td>3.034056</td>\n",
              "      <td>2.550505</td>\n",
              "      <td>2.712052</td>\n",
              "      <td>2.783105</td>\n",
              "      <td>1</td>\n",
              "      <td>1</td>\n",
              "      <td>0</td>\n",
              "      <td>0</td>\n",
              "    </tr>\n",
              "    <tr>\n",
              "      <th>4</th>\n",
              "      <td>2.871430</td>\n",
              "      <td>2.695604</td>\n",
              "      <td>3.231170</td>\n",
              "      <td>2.941584</td>\n",
              "      <td>1</td>\n",
              "      <td>1</td>\n",
              "      <td>0</td>\n",
              "      <td>0</td>\n",
              "    </tr>\n",
              "    <tr>\n",
              "      <th>...</th>\n",
              "      <td>...</td>\n",
              "      <td>...</td>\n",
              "      <td>...</td>\n",
              "      <td>...</td>\n",
              "      <td>...</td>\n",
              "      <td>...</td>\n",
              "      <td>...</td>\n",
              "      <td>...</td>\n",
              "    </tr>\n",
              "    <tr>\n",
              "      <th>362</th>\n",
              "      <td>-1.031588</td>\n",
              "      <td>-1.076977</td>\n",
              "      <td>-0.921777</td>\n",
              "      <td>-1.020400</td>\n",
              "      <td>2</td>\n",
              "      <td>3</td>\n",
              "      <td>2</td>\n",
              "      <td>1</td>\n",
              "    </tr>\n",
              "    <tr>\n",
              "      <th>363</th>\n",
              "      <td>-1.194214</td>\n",
              "      <td>-1.076977</td>\n",
              "      <td>-1.094816</td>\n",
              "      <td>-1.020400</td>\n",
              "      <td>2</td>\n",
              "      <td>3</td>\n",
              "      <td>2</td>\n",
              "      <td>1</td>\n",
              "    </tr>\n",
              "    <tr>\n",
              "      <th>364</th>\n",
              "      <td>-1.194214</td>\n",
              "      <td>-0.641679</td>\n",
              "      <td>-1.094816</td>\n",
              "      <td>-0.544962</td>\n",
              "      <td>2</td>\n",
              "      <td>3</td>\n",
              "      <td>2</td>\n",
              "      <td>1</td>\n",
              "    </tr>\n",
              "    <tr>\n",
              "      <th>365</th>\n",
              "      <td>-1.194214</td>\n",
              "      <td>-1.076977</td>\n",
              "      <td>-1.094816</td>\n",
              "      <td>-1.178879</td>\n",
              "      <td>2</td>\n",
              "      <td>3</td>\n",
              "      <td>2</td>\n",
              "      <td>1</td>\n",
              "    </tr>\n",
              "    <tr>\n",
              "      <th>366</th>\n",
              "      <td>-1.194214</td>\n",
              "      <td>-1.076977</td>\n",
              "      <td>-1.094816</td>\n",
              "      <td>-1.178879</td>\n",
              "      <td>2</td>\n",
              "      <td>3</td>\n",
              "      <td>2</td>\n",
              "      <td>1</td>\n",
              "    </tr>\n",
              "  </tbody>\n",
              "</table>\n",
              "<p>367 rows × 8 columns</p>\n",
              "</div>"
            ],
            "text/plain": [
              "         Open      High  ...  cluster_hierarchy  cluster_dbscan\n",
              "0    3.196681  4.291696  ...                  0              -1\n",
              "1    3.196681  2.695604  ...                  0               0\n",
              "2    2.871430  2.695604  ...                  0               0\n",
              "3    3.034056  2.550505  ...                  0               0\n",
              "4    2.871430  2.695604  ...                  0               0\n",
              "..        ...       ...  ...                ...             ...\n",
              "362 -1.031588 -1.076977  ...                  2               1\n",
              "363 -1.194214 -1.076977  ...                  2               1\n",
              "364 -1.194214 -0.641679  ...                  2               1\n",
              "365 -1.194214 -1.076977  ...                  2               1\n",
              "366 -1.194214 -1.076977  ...                  2               1\n",
              "\n",
              "[367 rows x 8 columns]"
            ]
          },
          "metadata": {},
          "execution_count": 63
        }
      ]
    },
    {
      "cell_type": "code",
      "metadata": {
        "colab": {
          "base_uri": "https://localhost:8080/",
          "height": 300
        },
        "id": "UZkZdbNUCsKv",
        "outputId": "36a02b88-01e2-4bb9-b8bd-e42280e3dee7"
      },
      "source": [
        "data_cluster.describe()"
      ],
      "execution_count": 64,
      "outputs": [
        {
          "output_type": "execute_result",
          "data": {
            "text/html": [
              "<div>\n",
              "<style scoped>\n",
              "    .dataframe tbody tr th:only-of-type {\n",
              "        vertical-align: middle;\n",
              "    }\n",
              "\n",
              "    .dataframe tbody tr th {\n",
              "        vertical-align: top;\n",
              "    }\n",
              "\n",
              "    .dataframe thead th {\n",
              "        text-align: right;\n",
              "    }\n",
              "</style>\n",
              "<table border=\"1\" class=\"dataframe\">\n",
              "  <thead>\n",
              "    <tr style=\"text-align: right;\">\n",
              "      <th></th>\n",
              "      <th>Open</th>\n",
              "      <th>High</th>\n",
              "      <th>Low</th>\n",
              "      <th>Close</th>\n",
              "      <th>cluster_kmeans3</th>\n",
              "      <th>cluster_kmeans4</th>\n",
              "      <th>cluster_hierarchy</th>\n",
              "      <th>cluster_dbscan</th>\n",
              "    </tr>\n",
              "  </thead>\n",
              "  <tbody>\n",
              "    <tr>\n",
              "      <th>count</th>\n",
              "      <td>3.670000e+02</td>\n",
              "      <td>3.670000e+02</td>\n",
              "      <td>3.670000e+02</td>\n",
              "      <td>3.670000e+02</td>\n",
              "      <td>367.000000</td>\n",
              "      <td>367.000000</td>\n",
              "      <td>367.000000</td>\n",
              "      <td>367.000000</td>\n",
              "    </tr>\n",
              "    <tr>\n",
              "      <th>mean</th>\n",
              "      <td>1.312907e-15</td>\n",
              "      <td>-3.509152e-17</td>\n",
              "      <td>4.065776e-16</td>\n",
              "      <td>1.024914e-15</td>\n",
              "      <td>0.637602</td>\n",
              "      <td>1.089918</td>\n",
              "      <td>1.697548</td>\n",
              "      <td>0.904632</td>\n",
              "    </tr>\n",
              "    <tr>\n",
              "      <th>std</th>\n",
              "      <td>1.001365e+00</td>\n",
              "      <td>1.001365e+00</td>\n",
              "      <td>1.001365e+00</td>\n",
              "      <td>1.001365e+00</td>\n",
              "      <td>0.769645</td>\n",
              "      <td>1.219192</td>\n",
              "      <td>0.526427</td>\n",
              "      <td>0.396922</td>\n",
              "    </tr>\n",
              "    <tr>\n",
              "      <th>min</th>\n",
              "      <td>-2.007342e+00</td>\n",
              "      <td>-1.802473e+00</td>\n",
              "      <td>-2.825211e+00</td>\n",
              "      <td>-1.971276e+00</td>\n",
              "      <td>0.000000</td>\n",
              "      <td>0.000000</td>\n",
              "      <td>0.000000</td>\n",
              "      <td>-1.000000</td>\n",
              "    </tr>\n",
              "    <tr>\n",
              "      <th>25%</th>\n",
              "      <td>-5.437106e-01</td>\n",
              "      <td>-4.965795e-01</td>\n",
              "      <td>-5.756980e-01</td>\n",
              "      <td>-5.449617e-01</td>\n",
              "      <td>0.000000</td>\n",
              "      <td>0.000000</td>\n",
              "      <td>1.000000</td>\n",
              "      <td>1.000000</td>\n",
              "    </tr>\n",
              "    <tr>\n",
              "      <th>50%</th>\n",
              "      <td>-2.184591e-01</td>\n",
              "      <td>-2.063810e-01</td>\n",
              "      <td>-5.657966e-02</td>\n",
              "      <td>-2.280030e-01</td>\n",
              "      <td>0.000000</td>\n",
              "      <td>0.000000</td>\n",
              "      <td>2.000000</td>\n",
              "      <td>1.000000</td>\n",
              "    </tr>\n",
              "    <tr>\n",
              "      <th>75%</th>\n",
              "      <td>6.759825e-01</td>\n",
              "      <td>6.642146e-01</td>\n",
              "      <td>6.355782e-01</td>\n",
              "      <td>7.228731e-01</td>\n",
              "      <td>1.000000</td>\n",
              "      <td>2.000000</td>\n",
              "      <td>2.000000</td>\n",
              "      <td>1.000000</td>\n",
              "    </tr>\n",
              "    <tr>\n",
              "      <th>max</th>\n",
              "      <td>3.359307e+00</td>\n",
              "      <td>4.581895e+00</td>\n",
              "      <td>3.404209e+00</td>\n",
              "      <td>4.684857e+00</td>\n",
              "      <td>2.000000</td>\n",
              "      <td>3.000000</td>\n",
              "      <td>2.000000</td>\n",
              "      <td>1.000000</td>\n",
              "    </tr>\n",
              "  </tbody>\n",
              "</table>\n",
              "</div>"
            ],
            "text/plain": [
              "               Open          High  ...  cluster_hierarchy  cluster_dbscan\n",
              "count  3.670000e+02  3.670000e+02  ...         367.000000      367.000000\n",
              "mean   1.312907e-15 -3.509152e-17  ...           1.697548        0.904632\n",
              "std    1.001365e+00  1.001365e+00  ...           0.526427        0.396922\n",
              "min   -2.007342e+00 -1.802473e+00  ...           0.000000       -1.000000\n",
              "25%   -5.437106e-01 -4.965795e-01  ...           1.000000        1.000000\n",
              "50%   -2.184591e-01 -2.063810e-01  ...           2.000000        1.000000\n",
              "75%    6.759825e-01  6.642146e-01  ...           2.000000        1.000000\n",
              "max    3.359307e+00  4.581895e+00  ...           2.000000        1.000000\n",
              "\n",
              "[8 rows x 8 columns]"
            ]
          },
          "metadata": {},
          "execution_count": 64
        }
      ]
    },
    {
      "cell_type": "code",
      "metadata": {
        "colab": {
          "base_uri": "https://localhost:8080/",
          "height": 371
        },
        "id": "f9n0wPkgCwGp",
        "outputId": "8d1f7bf1-f457-48cb-e014-51f979e4165a"
      },
      "source": [
        "## Tampilkan Plot\n",
        "plt.figure(figsize=(8,4))\n",
        "sns.scatterplot(data_cluster['Low'], data_cluster['High'], hue=data_cluster['cluster_dbscan'], palette=sns.color_palette('hls',3))\n",
        "plt.title(' DBSCAN clustering')"
      ],
      "execution_count": 65,
      "outputs": [
        {
          "output_type": "stream",
          "name": "stderr",
          "text": [
            "/usr/local/lib/python3.7/dist-packages/seaborn/_decorators.py:43: FutureWarning: Pass the following variables as keyword args: x, y. From version 0.12, the only valid positional argument will be `data`, and passing other arguments without an explicit keyword will result in an error or misinterpretation.\n",
            "  FutureWarning\n"
          ]
        },
        {
          "output_type": "execute_result",
          "data": {
            "text/plain": [
              "Text(0.5, 1.0, ' DBSCAN clustering')"
            ]
          },
          "metadata": {},
          "execution_count": 65
        },
        {
          "output_type": "display_data",
          "data": {
            "image/png": "[encoded data removed]",
            "text/plain": [
              "<Figure size 576x288 with 1 Axes>"
            ]
          },
          "metadata": {
            "needs_background": "light"
          }
        }
      ]
    },
    {
      "cell_type": "code",
      "metadata": {
        "id": "S23RN4YOC21_"
      },
      "source": [
        ""
      ],
      "execution_count": null,
      "outputs": []
    }
  ]
}